{
  "nbformat": 4,
  "nbformat_minor": 0,
  "metadata": {
    "colab": {
      "provenance": []
    },
    "kernelspec": {
      "name": "python3",
      "display_name": "Python 3"
    },
    "language_info": {
      "name": "python"
    }
  },
  "cells": [
    {
      "cell_type": "markdown",
      "source": [
        "## 1. Install Dependencies"
      ],
      "metadata": {
        "id": "xgkaylhEy0K6"
      }
    },
    {
      "cell_type": "code",
      "execution_count": 3,
      "metadata": {
        "id": "bIVcYoCdyqxn"
      },
      "outputs": [],
      "source": [
        "!pip install ultralytics pandas numpy matplotlib psutil onnxruntime tensorflow -q"
      ]
    },
    {
      "cell_type": "code",
      "source": [
        "# Import libraries\n",
        "import os\n",
        "import gc\n",
        "import time\n",
        "import json\n",
        "from datetime import datetime\n",
        "\n",
        "import torch\n",
        "import psutil\n",
        "import pandas as pd\n",
        "import numpy as np\n",
        "import tensorflow as tf\n",
        "import onnxruntime as ort\n",
        "import matplotlib.pyplot as plt\n",
        "from ultralytics import YOLO"
      ],
      "metadata": {
        "colab": {
          "base_uri": "https://localhost:8080/"
        },
        "id": "dHh_euvmzGa6",
        "outputId": "e30b75c5-616b-42c4-b0b4-4d0a95fa8cee"
      },
      "execution_count": 4,
      "outputs": [
        {
          "output_type": "stream",
          "name": "stdout",
          "text": [
            "Creating new Ultralytics Settings v0.0.6 file ✅ \n",
            "View Ultralytics Settings with 'yolo settings' or at '/root/.config/Ultralytics/settings.json'\n",
            "Update Settings with 'yolo settings key=value', i.e. 'yolo settings runs_dir=path/to/dir'. For help see https://docs.ultralytics.com/quickstart/#ultralytics-settings.\n"
          ]
        }
      ]
    },
    {
      "cell_type": "markdown",
      "source": [
        "## 2. Configuration"
      ],
      "metadata": {
        "id": "0QbSfUpzzAnw"
      }
    },
    {
      "cell_type": "code",
      "source": [
        "# ==> UPDATE THESE PATHS TO YOUR UPLOADED MODELS <==\n",
        "MODEL_PATHS = {\n",
        "    'pytorch': '/content/yolov8n_pytorch_float16.pt',\n",
        "    'onnx': '/content/yolov8n_best_int8_dynamic.onnx',\n",
        "    'tflite': '/content/yolov8n_float16.tflite'\n",
        "}\n",
        "\n",
        "# Benchmark settings\n",
        "BENCHMARK_CONFIG = {\n",
        "    \"img_size\": 640,\n",
        "    \"num_runs\": 100,\n",
        "    \"warmup_runs\": 10,\n",
        "    \"batch_sizes\": [1, 4, 8, 16]\n",
        "}\n",
        "\n",
        "print(\"📋 Configuration set!\")\n",
        "print(f\"Looking for models at:\")\n",
        "for fmt, path in MODEL_PATHS.items():\n",
        "    exists = \"✅\" if os.path.exists(path) else \"❌\"\n",
        "    print(f\"  {exists} {fmt}: {path}\")"
      ],
      "metadata": {
        "colab": {
          "base_uri": "https://localhost:8080/"
        },
        "id": "qIVkIsAzywSf",
        "outputId": "5849270a-574c-4516-8420-41bcb5c11edd"
      },
      "execution_count": 5,
      "outputs": [
        {
          "output_type": "stream",
          "name": "stdout",
          "text": [
            "📋 Configuration set!\n",
            "Looking for models at:\n",
            "  ✅ pytorch: /content/yolov8n_pytorch_float16.pt\n",
            "  ✅ onnx: /content/yolov8n_best_int8_dynamic.onnx\n",
            "  ✅ tflite: /content/yolov8n_float16.tflite\n"
          ]
        }
      ]
    },
    {
      "cell_type": "markdown",
      "source": [
        "## 3. Core Benchmarking Functions"
      ],
      "metadata": {
        "id": "5OfMQZIsywWH"
      }
    },
    {
      "cell_type": "code",
      "source": [
        "def benchmark_model(model_path, format_type, img_size=640, num_runs=100, warmup_runs=10, batch_size=1):\n",
        "    \"\"\"Run performance benchmark for a model\"\"\"\n",
        "\n",
        "    # Clean memory\n",
        "    gc.collect()\n",
        "    if format_type == 'pytorch':\n",
        "        torch.cuda.empty_cache()\n",
        "\n",
        "    start_mem = psutil.Process(os.getpid()).memory_info().rss / 1024 / 1024\n",
        "\n",
        "    # Setup model and inference function\n",
        "    if format_type == 'pytorch':\n",
        "        model = YOLO(model_path)\n",
        "        test_images = [np.ones((img_size, img_size, 3), dtype=np.uint8) * 128 for _ in range(batch_size)]\n",
        "        def run_inference():\n",
        "            return model(test_images, verbose=False)\n",
        "\n",
        "    elif format_type == 'onnx':\n",
        "        session = ort.InferenceSession(model_path, providers=['CUDAExecutionProvider', 'CPUExecutionProvider'])\n",
        "        input_name = session.get_inputs()[0].name\n",
        "        test_input = np.random.rand(batch_size, 3, img_size, img_size).astype(np.float32)\n",
        "        def run_inference():\n",
        "            return session.run(None, {input_name: test_input})\n",
        "\n",
        "    elif format_type == 'tflite':\n",
        "        interpreter = tf.lite.Interpreter(model_path=model_path)\n",
        "        interpreter.allocate_tensors()\n",
        "        input_details = interpreter.get_input_details()[0]\n",
        "\n",
        "        # TFLite doesn't play nice with batching\n",
        "        if batch_size > 1:\n",
        "            print(f\"TFLite: forcing batch_size=1\")\n",
        "            batch_size = 1\n",
        "\n",
        "        test_input = np.random.randint(0, 256, (batch_size, img_size, img_size, 3), dtype=np.uint8)\n",
        "        if input_details['dtype'] == np.float32:\n",
        "            test_input = test_input.astype(np.float32)\n",
        "\n",
        "        def run_inference():\n",
        "            interpreter.set_tensor(input_details['index'], test_input)\n",
        "            interpreter.invoke()\n",
        "            output_details = interpreter.get_output_details()\n",
        "            return [interpreter.get_tensor(o['index']) for o in output_details]\n",
        "\n",
        "    # Warmup\n",
        "    print(f\"🔥 Warming up {format_type} (batch={batch_size})...\")\n",
        "    for _ in range(warmup_runs):\n",
        "        _ = run_inference()\n",
        "\n",
        "    # Benchmark\n",
        "    print(f\"⚡ Benchmarking {format_type}...\")\n",
        "    latencies = []\n",
        "    for _ in range(num_runs):\n",
        "        start = time.time()\n",
        "        _ = run_inference()\n",
        "        latencies.append((time.time() - start) * 1000)  # ms\n",
        "\n",
        "    # Calculate metrics\n",
        "    end_mem = psutil.Process(os.getpid()).memory_info().rss / 1024 / 1024\n",
        "    avg_latency = np.mean(latencies)\n",
        "    throughput = (1000 / avg_latency) * batch_size\n",
        "\n",
        "    results = {\n",
        "        \"format\": format_type,\n",
        "        \"batch_size\": batch_size,\n",
        "        \"avg_latency_ms\": round(avg_latency, 2),\n",
        "        \"p95_latency_ms\": round(np.percentile(latencies, 95), 2),\n",
        "        \"throughput_fps\": round(throughput, 2),\n",
        "        \"memory_usage_mb\": round(end_mem - start_mem, 2),\n",
        "        \"image_size\": img_size\n",
        "    }\n",
        "\n",
        "    print(f\"✅ {format_type}: {throughput:.1f} FPS, {avg_latency:.1f}ms\")\n",
        "    return results\n",
        "\n",
        "print(\"🛠️ Benchmark function ready!\")"
      ],
      "metadata": {
        "colab": {
          "base_uri": "https://localhost:8080/"
        },
        "id": "N46T71kjywY7",
        "outputId": "bddda6d6-88f2-4b73-95f2-153a48b9949a"
      },
      "execution_count": 6,
      "outputs": [
        {
          "output_type": "stream",
          "name": "stdout",
          "text": [
            "🛠️ Benchmark function ready!\n"
          ]
        }
      ]
    },
    {
      "cell_type": "markdown",
      "source": [
        "## 4. Visualization Function"
      ],
      "metadata": {
        "id": "LVyrfX-Uywbi"
      }
    },
    {
      "cell_type": "code",
      "source": [
        "def plot_results(results_df, output_dir):\n",
        "    \"\"\"Generate comparison plots\"\"\"\n",
        "    fig, axs = plt.subplots(2, 2, figsize=(15, 10))\n",
        "    colors = {'pytorch': 'blue', 'onnx': 'orange', 'tflite': 'green'}\n",
        "\n",
        "    # Batch size 1 comparisons\n",
        "    batch1 = results_df[results_df['batch_size'] == 1].set_index('format')\n",
        "\n",
        "    # Latency\n",
        "    batch1['avg_latency_ms'].plot(kind='bar', ax=axs[0,0],\n",
        "                                  color=[colors.get(i, 'gray') for i in batch1.index])\n",
        "    axs[0,0].set_title('Latency (ms) - Lower is Better')\n",
        "    axs[0,0].grid(axis='y', alpha=0.3)\n",
        "\n",
        "    # Throughput\n",
        "    batch1['throughput_fps'].plot(kind='bar', ax=axs[0,1],\n",
        "                                  color=[colors.get(i, 'gray') for i in batch1.index])\n",
        "    axs[0,1].set_title('Throughput (FPS) - Higher is Better')\n",
        "    axs[0,1].grid(axis='y', alpha=0.3)\n",
        "\n",
        "    # Memory\n",
        "    batch1['memory_usage_mb'].plot(kind='bar', ax=axs[1,0],\n",
        "                                   color=[colors.get(i, 'gray') for i in batch1.index])\n",
        "    axs[1,0].set_title('Memory Usage (MB)')\n",
        "    axs[1,0].grid(axis='y', alpha=0.3)\n",
        "\n",
        "    # Batch scaling\n",
        "    for fmt, color in colors.items():\n",
        "        fmt_data = results_df[results_df['format'] == fmt]\n",
        "        if len(fmt_data) > 0:\n",
        "            axs[1,1].plot(fmt_data['batch_size'], fmt_data['throughput_fps'],\n",
        "                         'o-', label=fmt, color=color)\n",
        "    axs[1,1].set_title('Batch Size vs Throughput')\n",
        "    axs[1,1].set_xlabel('Batch Size')\n",
        "    axs[1,1].set_ylabel('FPS')\n",
        "    axs[1,1].legend()\n",
        "    axs[1,1].grid(alpha=0.3)\n",
        "\n",
        "    plt.tight_layout()\n",
        "    plot_path = f\"{output_dir}/benchmark_results.png\"\n",
        "    plt.savefig(plot_path, dpi=150, bbox_inches='tight')\n",
        "    plt.show()\n",
        "    return plot_path\n",
        "\n",
        "print(\"📊 Plotting function ready!\")"
      ],
      "metadata": {
        "colab": {
          "base_uri": "https://localhost:8080/"
        },
        "id": "5C7YrZfsyweK",
        "outputId": "0ef4e4df-6e71-486a-8ffb-6654fad5f27b"
      },
      "execution_count": 7,
      "outputs": [
        {
          "output_type": "stream",
          "name": "stdout",
          "text": [
            "📊 Plotting function ready!\n"
          ]
        }
      ]
    },
    {
      "cell_type": "markdown",
      "source": [
        "## 5. Main Benchmark Runner"
      ],
      "metadata": {
        "id": "sEMh679Uywgr"
      }
    },
    {
      "cell_type": "code",
      "source": [
        "def run_benchmark():\n",
        "    \"\"\"Main function - keep it simple\"\"\"\n",
        "\n",
        "    # Setup output directory\n",
        "    timestamp = datetime.now().strftime(\"%Y%m%d_%H%M%S\")\n",
        "    output_dir = f\"/content/benchmark_results_{timestamp}\"\n",
        "    os.makedirs(output_dir, exist_ok=True)\n",
        "    print(f\"📁 Results will be saved to: {output_dir}\")\n",
        "\n",
        "    # Find available models\n",
        "    available_models = {fmt: path for fmt, path in MODEL_PATHS.items()\n",
        "                       if os.path.exists(path)}\n",
        "\n",
        "    if not available_models:\n",
        "        print(\"❌ No models found! Check your MODEL_PATHS\")\n",
        "        print(\"Expected files:\")\n",
        "        for fmt, path in MODEL_PATHS.items():\n",
        "            print(f\"  {fmt}: {path}\")\n",
        "        return\n",
        "\n",
        "    print(f\"📊 Found models: {list(available_models.keys())}\")\n",
        "\n",
        "    # Run benchmarks\n",
        "    all_results = []\n",
        "    for format_type, model_path in available_models.items():\n",
        "\n",
        "        # TFLite only gets batch_size=1\n",
        "        batch_sizes = [1] if format_type == 'tflite' else BENCHMARK_CONFIG['batch_sizes']\n",
        "\n",
        "        for batch_size in batch_sizes:\n",
        "            try:\n",
        "                result = benchmark_model(\n",
        "                    model_path, format_type,\n",
        "                    img_size=BENCHMARK_CONFIG['img_size'],\n",
        "                    num_runs=BENCHMARK_CONFIG['num_runs'],\n",
        "                    batch_size=batch_size\n",
        "                )\n",
        "                all_results.append(result)\n",
        "            except Exception as e:\n",
        "                print(f\"❌ Failed {format_type} batch={batch_size}: {e}\")\n",
        "\n",
        "    if not all_results:\n",
        "        print(\"No benchmarks completed successfully\")\n",
        "        return\n",
        "\n",
        "    # Save and display results\n",
        "    df = pd.DataFrame(all_results)\n",
        "\n",
        "    # Save files\n",
        "    csv_path = f\"{output_dir}/results.csv\"\n",
        "    json_path = f\"{output_dir}/results.json\"\n",
        "    df.to_csv(csv_path, index=False)\n",
        "    df.to_json(json_path, orient='records', indent=2)\n",
        "\n",
        "    # Display summary\n",
        "    print(f\"\\n🎯 BENCHMARK RESULTS\")\n",
        "    print(\"=\"*50)\n",
        "    print(df.to_string(index=False))\n",
        "\n",
        "    # Generate plots\n",
        "    plot_path = plot_results(df, output_dir)\n",
        "\n",
        "    print(f\"\\n💾 Results saved to:\")\n",
        "    print(f\"  📊 {csv_path}\")\n",
        "    print(f\"  📈 {plot_path}\")\n",
        "\n",
        "    return df\n",
        "\n",
        "print(\"🚀 Main function ready!\")"
      ],
      "metadata": {
        "colab": {
          "base_uri": "https://localhost:8080/"
        },
        "id": "GcyJRXzdywjT",
        "outputId": "c5fc1b76-19f2-4782-bc3f-7164a8ee07fd"
      },
      "execution_count": 8,
      "outputs": [
        {
          "output_type": "stream",
          "name": "stdout",
          "text": [
            "🚀 Main function ready!\n"
          ]
        }
      ]
    },
    {
      "cell_type": "markdown",
      "source": [
        "## 6. Run the Benchmark!"
      ],
      "metadata": {
        "id": "C84hzY5LywlT"
      }
    },
    {
      "cell_type": "code",
      "source": [
        "# Execute the benchmark\n",
        "results = run_benchmark()"
      ],
      "metadata": {
        "colab": {
          "base_uri": "https://localhost:8080/",
          "height": 1000
        },
        "id": "7vF7YigwzjN_",
        "outputId": "f2c14eb1-25f6-4d55-d4d8-066f7aba50dd"
      },
      "execution_count": 9,
      "outputs": [
        {
          "output_type": "stream",
          "name": "stdout",
          "text": [
            "📁 Results will be saved to: /content/benchmark_results_20250717_101239\n",
            "📊 Found models: ['pytorch', 'onnx', 'tflite']\n",
            "🔥 Warming up pytorch (batch=1)...\n",
            "⚡ Benchmarking pytorch...\n",
            "✅ pytorch: 3.8 FPS, 262.8ms\n",
            "🔥 Warming up pytorch (batch=4)...\n",
            "⚡ Benchmarking pytorch...\n",
            "✅ pytorch: 4.2 FPS, 952.0ms\n",
            "🔥 Warming up pytorch (batch=8)...\n",
            "⚡ Benchmarking pytorch...\n",
            "✅ pytorch: 4.2 FPS, 1894.8ms\n",
            "🔥 Warming up pytorch (batch=16)...\n",
            "⚡ Benchmarking pytorch...\n",
            "✅ pytorch: 3.6 FPS, 4437.9ms\n"
          ]
        },
        {
          "output_type": "stream",
          "name": "stderr",
          "text": [
            "/usr/local/lib/python3.11/dist-packages/onnxruntime/capi/onnxruntime_inference_collection.py:121: UserWarning: Specified provider 'CUDAExecutionProvider' is not in available provider names.Available providers: 'AzureExecutionProvider, CPUExecutionProvider'\n",
            "  warnings.warn(\n"
          ]
        },
        {
          "output_type": "stream",
          "name": "stdout",
          "text": [
            "🔥 Warming up onnx (batch=1)...\n",
            "⚡ Benchmarking onnx...\n",
            "✅ onnx: 4.4 FPS, 225.2ms\n",
            "🔥 Warming up onnx (batch=4)...\n",
            "❌ Failed onnx batch=4: [ONNXRuntimeError] : 2 : INVALID_ARGUMENT : Got invalid dimensions for input: images for the following indices\n",
            " index: 0 Got: 4 Expected: 1\n",
            " Please fix either the inputs/outputs or the model.\n",
            "🔥 Warming up onnx (batch=8)...\n",
            "❌ Failed onnx batch=8: [ONNXRuntimeError] : 2 : INVALID_ARGUMENT : Got invalid dimensions for input: images for the following indices\n",
            " index: 0 Got: 8 Expected: 1\n",
            " Please fix either the inputs/outputs or the model.\n",
            "🔥 Warming up onnx (batch=16)...\n",
            "❌ Failed onnx batch=16: [ONNXRuntimeError] : 2 : INVALID_ARGUMENT : Got invalid dimensions for input: images for the following indices\n",
            " index: 0 Got: 16 Expected: 1\n",
            " Please fix either the inputs/outputs or the model.\n",
            "🔥 Warming up tflite (batch=1)...\n",
            "⚡ Benchmarking tflite...\n",
            "✅ tflite: 4.8 FPS, 207.2ms\n",
            "\n",
            "🎯 BENCHMARK RESULTS\n",
            "==================================================\n",
            " format  batch_size  avg_latency_ms  p95_latency_ms  throughput_fps  memory_usage_mb  image_size\n",
            "pytorch           1          262.82          368.28            3.80           180.47         640\n",
            "pytorch           4          952.03         1340.13            4.20           120.00         640\n",
            "pytorch           8         1894.77         2534.63            4.22            63.15         640\n",
            "pytorch          16         4437.88         5108.99            3.61           360.25         640\n",
            "   onnx           1          225.23          333.07            4.44             4.05         640\n",
            " tflite           1          207.22          349.14            4.83             8.54         640\n"
          ]
        },
        {
          "output_type": "display_data",
          "data": {
            "text/plain": [
              "<Figure size 1500x1000 with 4 Axes>"
            ],
            "image/png": "[encoded data removed]"
          },
          "metadata": {}
        },
        {
          "output_type": "stream",
          "name": "stdout",
          "text": [
            "\n",
            "💾 Results saved to:\n",
            "  📊 /content/benchmark_results_20250717_101239/results.csv\n",
            "  📈 /content/benchmark_results_20250717_101239/benchmark_results.png\n"
          ]
        }
      ]
    },
    {
      "cell_type": "markdown",
      "source": [
        "## 7. Optional: Quick Results Summary"
      ],
      "metadata": {
        "id": "sS0LxoQwzjSZ"
      }
    },
    {
      "cell_type": "code",
      "source": [
        "# Display a quick summary if you want\n",
        "if 'results' in locals() and results is not None:\n",
        "    print(\"\\n📈 QUICK SUMMARY\")\n",
        "    print(\"-\" * 30)\n",
        "\n",
        "    # Best performers\n",
        "    fastest = results.loc[results['throughput_fps'].idxmax()]\n",
        "    lowest_latency = results.loc[results['avg_latency_ms'].idxmin()]\n",
        "\n",
        "    print(f\"🏆 Highest Throughput: {fastest['format']} - {fastest['throughput_fps']} FPS\")\n",
        "    print(f\"⚡ Lowest Latency: {lowest_latency['format']} - {lowest_latency['avg_latency_ms']} ms\")\n",
        "\n",
        "    # Format comparison (batch size 1)\n",
        "    batch1 = results[results['batch_size'] == 1]\n",
        "    if len(batch1) > 0:\n",
        "        print(f\"\\n📊 Format Comparison (Batch Size 1):\")\n",
        "        for _, row in batch1.iterrows():\n",
        "            print(f\"  {row['format']:8}: {row['throughput_fps']:6.1f} FPS, {row['avg_latency_ms']:6.1f}ms\")"
      ],
      "metadata": {
        "colab": {
          "base_uri": "https://localhost:8080/"
        },
        "id": "fKlp_2LuzjV-",
        "outputId": "f77fbfcf-2b78-4522-aaae-82ce563a6eaa"
      },
      "execution_count": 10,
      "outputs": [
        {
          "output_type": "stream",
          "name": "stdout",
          "text": [
            "\n",
            "📈 QUICK SUMMARY\n",
            "------------------------------\n",
            "🏆 Highest Throughput: tflite - 4.83 FPS\n",
            "⚡ Lowest Latency: tflite - 207.22 ms\n",
            "\n",
            "📊 Format Comparison (Batch Size 1):\n",
            "  pytorch :    3.8 FPS,  262.8ms\n",
            "  onnx    :    4.4 FPS,  225.2ms\n",
            "  tflite  :    4.8 FPS,  207.2ms\n"
          ]
        }
      ]
    },
    {
      "cell_type": "markdown",
      "source": [
        "## Usage Instructions:\n",
        "\n",
        "1. **Upload your models** to `/content/models/` or update the paths in step 2\n",
        "2. **Run each cell** in order  \n",
        "3. **Check results** in the generated plots and CSV files\n",
        "4. **Download results** from the `/content/benchmark_results_[timestamp]/` folder"
      ],
      "metadata": {
        "id": "R4OQb_IdzvjE"
      }
    }
  ]
}